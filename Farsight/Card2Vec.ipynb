{
 "cells": [
  {
   "cell_type": "code",
   "execution_count": 1,
   "metadata": {
    "collapsed": false
   },
   "outputs": [],
   "source": [
    "from gensim.models.word2vec import Word2Vec\n",
    "from sklearn.manifold import TSNE\n",
    "from sklearn.datasets import fetch_20newsgroups\n",
    "import re\n",
    "%matplotlib inline\n",
    "import pandas as pd\n",
    "from sklearn.feature_extraction.text import CountVectorizer\n",
    "\n",
    "import numpy as np\n",
    "import matplotlib.pyplot as plt\n",
    "import pickle\n",
    "\n",
    "import gensim"
   ]
  },
  {
   "cell_type": "code",
   "execution_count": 2,
   "metadata": {
    "collapsed": true
   },
   "outputs": [],
   "source": [
    "with open(\"Corpora.pkl\", 'rb') as picklefile: \n",
    "    Corpora = pickle.load(picklefile)\n",
    "\n",
    "import itertools\n",
    "\n",
    "histories = list(itertools.chain.from_iterable(Corpora))"
   ]
  },
  {
   "cell_type": "code",
   "execution_count": 3,
   "metadata": {
    "collapsed": true
   },
   "outputs": [],
   "source": [
    "with open(\"Rogue.pkl\", 'rb') as picklefile: \n",
    "    histories2 = pickle.load(picklefile)"
   ]
  },
  {
   "cell_type": "code",
   "execution_count": 4,
   "metadata": {
    "collapsed": false
   },
   "outputs": [],
   "source": [
    "# model = gensim.models.Word2Vec(histories, size=100, window=5, min_count=1, workers=4,sg=1)"
   ]
  },
  {
   "cell_type": "code",
   "execution_count": 5,
   "metadata": {
    "collapsed": true
   },
   "outputs": [],
   "source": [
    "# model2 = gensim.models.Word2Vec(histories2, size=100, window=5, min_count=1, workers=4,sg=1)"
   ]
  },
  {
   "cell_type": "markdown",
   "metadata": {},
   "source": [
    "**All Games**"
   ]
  },
  {
   "cell_type": "code",
   "execution_count": 4,
   "metadata": {
    "collapsed": false
   },
   "outputs": [
    {
     "ename": "NameError",
     "evalue": "name 'model' is not defined",
     "output_type": "error",
     "traceback": [
      "\u001b[0;31m---------------------------------------------------------------------------\u001b[0m",
      "\u001b[0;31mNameError\u001b[0m                                 Traceback (most recent call last)",
      "\u001b[0;32m<ipython-input-4-d4285fd15273>\u001b[0m in \u001b[0;36m<module>\u001b[0;34m()\u001b[0m\n\u001b[1;32m      2\u001b[0m \u001b[0mnum\u001b[0m \u001b[0;34m=\u001b[0m \u001b[0;36m20\u001b[0m\u001b[0;34m\u001b[0m\u001b[0m\n\u001b[1;32m      3\u001b[0m \u001b[0;34m\u001b[0m\u001b[0m\n\u001b[0;32m----> 4\u001b[0;31m \u001b[0mmodel\u001b[0m\u001b[0;34m.\u001b[0m\u001b[0mmost_similar\u001b[0m\u001b[0;34m(\u001b[0m\u001b[0mpositive\u001b[0m\u001b[0;34m=\u001b[0m\u001b[0msequence\u001b[0m\u001b[0;34m,\u001b[0m\u001b[0mnegative\u001b[0m\u001b[0;34m=\u001b[0m\u001b[0;34m[\u001b[0m\u001b[0;34m]\u001b[0m\u001b[0;34m,\u001b[0m \u001b[0mtopn\u001b[0m\u001b[0;34m=\u001b[0m\u001b[0mnum\u001b[0m\u001b[0;34m)\u001b[0m\u001b[0;34m\u001b[0m\u001b[0m\n\u001b[0m",
      "\u001b[0;31mNameError\u001b[0m: name 'model' is not defined"
     ]
    }
   ],
   "source": [
    "sequence = ['Fiery War Axe','Bloodsail Raider']\n",
    "num = 20\n",
    "\n",
    "model.most_similar(positive=sequence,negative=[], topn=num)"
   ]
  },
  {
   "cell_type": "code",
   "execution_count": 7,
   "metadata": {
    "collapsed": false
   },
   "outputs": [
    {
     "data": {
      "text/plain": [
       "[('Naga Corsair', 0.063701108),\n",
       " (\"Kor'kron Elite\", 0.045329876),\n",
       " ('Bloodsail Cultist', 0.042774484),\n",
       " ('Southsea Captain', 0.042013858),\n",
       " ('Upgrade!', 0.040331066),\n",
       " ('Arcanite Reaper', 0.039894301),\n",
       " ('Mortal Strike', 0.039887004),\n",
       " ('Dread Corsair', 0.039621286),\n",
       " ('Frothing Berserker', 0.037822861),\n",
       " ('Heroic Strike', 0.036452729),\n",
       " ('Leeroy Jenkins', 0.03538857),\n",
       " (\"N'Zoth's First Mate\", 0.030886833),\n",
       " ('Bloodsail Raider', 0.027709015),\n",
       " ('Captain Greenskin', 0.025941487),\n",
       " ('Small-Time Buccaneer', 0.016625015),\n",
       " ('Hobart Grapplehammer', 0.013322947),\n",
       " ('Spellbreaker', 0.013037371),\n",
       " ('Fiery War Axe', 0.01292135),\n",
       " ('Grimy Gadgeteer', 0.012770307),\n",
       " ('Southsea Deckhand', 0.012735719)]"
      ]
     },
     "execution_count": 7,
     "metadata": {},
     "output_type": "execute_result"
    }
   ],
   "source": [
    "model.predict_output_word(sequence, topn=num)"
   ]
  },
  {
   "cell_type": "markdown",
   "metadata": {},
   "source": [
    "**Only Class**"
   ]
  },
  {
   "cell_type": "code",
   "execution_count": 8,
   "metadata": {
    "collapsed": false
   },
   "outputs": [
    {
     "data": {
      "text/plain": [
       "[('Bloodsail Raider', 0.0038864322),\n",
       " ('Obsidian Shard', 0.0037713163),\n",
       " ('Ethereal Peddler', 0.0037001336),\n",
       " ('Deadly Poison', 0.0034255802),\n",
       " ('Defender of Argus', 0.0032651918),\n",
       " ('Sprint', 0.0032303031),\n",
       " ('Cult Master', 0.0030760153),\n",
       " ('Choose Your Path', 0.0030102488),\n",
       " ('Defias Ringleader', 0.0029774115),\n",
       " ('Bluegill Warrior', 0.0029362249),\n",
       " ('Shadowcaster', 0.0028833898),\n",
       " ('Undercity Huckster', 0.0028806743),\n",
       " ('Elise the Trailblazer', 0.0028604304),\n",
       " ('Dark Iron Dwarf', 0.0027741503),\n",
       " ('The Curator', 0.0027684993),\n",
       " ('Jungle Panther', 0.0027621645),\n",
       " ('Naga Corsair', 0.0027342574),\n",
       " ('Wolfrider', 0.0027275386),\n",
       " ('Servant of Kalimos', 0.0027125119),\n",
       " ('Shadow Sensei', 0.0026593488)]"
      ]
     },
     "execution_count": 8,
     "metadata": {},
     "output_type": "execute_result"
    }
   ],
   "source": [
    "# model.most_similar(positive=sequence,negative=[], topn=num)\n",
    "model2.predict_output_word(sequence, topn=num)"
   ]
  },
  {
   "cell_type": "code",
   "execution_count": 9,
   "metadata": {
    "collapsed": true
   },
   "outputs": [],
   "source": [
    "# with open(\"gensim_model.pkl\", 'rb') as picklefile: \n",
    "#     model = pickle.load(picklefile)"
   ]
  },
  {
   "cell_type": "code",
   "execution_count": 10,
   "metadata": {
    "collapsed": true
   },
   "outputs": [],
   "source": [
    "with open('gensim_model.pkl', 'wb') as picklefile:\n",
    "    pickle.dump(model, picklefile)"
   ]
  },
  {
   "cell_type": "code",
   "execution_count": 95,
   "metadata": {
    "collapsed": true
   },
   "outputs": [],
   "source": [
    "sequence = [\"Jade Claws\", \n",
    "            '', \n",
    "            '']\n",
    "num = 10\n",
    "window = 1\n",
    "size = 100"
   ]
  },
  {
   "cell_type": "code",
   "execution_count": 70,
   "metadata": {
    "collapsed": true
   },
   "outputs": [],
   "source": [
    "CBOW_model = gensim.models.Word2Vec(histories, size=size, window=window, min_count=1, workers=4,sg=0)\n",
    "skip_gram_model = gensim.models.Word2Vec(histories, size=size, window=window, min_count=1, workers=4,sg=1)"
   ]
  },
  {
   "cell_type": "code",
   "execution_count": 96,
   "metadata": {
    "collapsed": false
   },
   "outputs": [
    {
     "data": {
      "text/plain": [
       "[('Primalfin Totem', 0.068745531),\n",
       " ('Devolve', 0.050490338),\n",
       " ('Jade Lightning', 0.050321851),\n",
       " ('Mana Tide Totem', 0.037854608),\n",
       " ('Bloodlust', 0.037040006),\n",
       " ('Thing from Below', 0.035269041),\n",
       " ('Maelstrom Portal', 0.028543824),\n",
       " ('Flametongue Totem', 0.025169177),\n",
       " ('Bloodsail Corsair', 0.024846438),\n",
       " ('Sea Giant', 0.015626868)]"
      ]
     },
     "execution_count": 96,
     "metadata": {},
     "output_type": "execute_result"
    }
   ],
   "source": [
    "CBOW_model.predict_output_word(sequence, topn=num)"
   ]
  },
  {
   "cell_type": "code",
   "execution_count": 97,
   "metadata": {
    "collapsed": false
   },
   "outputs": [
    {
     "data": {
      "text/plain": [
       "[('Primalfin Totem', 0.04727409),\n",
       " ('Bloodlust', 0.03149429),\n",
       " ('Mana Tide Totem', 0.031240838),\n",
       " ('Jade Lightning', 0.030587984),\n",
       " ('Doppelgangster', 0.029918823),\n",
       " ('Thing from Below', 0.027898164),\n",
       " ('Devolve', 0.026890792),\n",
       " ('Evolve', 0.024852047),\n",
       " ('Bloodsail Corsair', 0.020940959),\n",
       " ('Maelstrom Portal', 0.020663776)]"
      ]
     },
     "execution_count": 97,
     "metadata": {},
     "output_type": "execute_result"
    }
   ],
   "source": [
    "skip_gram_model.predict_output_word(sequence, topn=num)"
   ]
  },
  {
   "cell_type": "code",
   "execution_count": 98,
   "metadata": {
    "collapsed": true
   },
   "outputs": [],
   "source": [
    "with open('gensim_model.pkl', 'wb') as picklefile:\n",
    "    pickle.dump(CBOW_model, picklefile)"
   ]
  },
  {
   "cell_type": "code",
   "execution_count": null,
   "metadata": {
    "collapsed": true
   },
   "outputs": [],
   "source": []
  }
 ],
 "metadata": {
  "kernelspec": {
   "display_name": "Python 3",
   "language": "python",
   "name": "python3"
  },
  "language_info": {
   "codemirror_mode": {
    "name": "ipython",
    "version": 3
   },
   "file_extension": ".py",
   "mimetype": "text/x-python",
   "name": "python",
   "nbconvert_exporter": "python",
   "pygments_lexer": "ipython3",
   "version": "3.6.0"
  },
  "toc": {
   "colors": {
    "hover_highlight": "#DAA520",
    "running_highlight": "#FF0000",
    "selected_highlight": "#FFD700"
   },
   "moveMenuLeft": true,
   "nav_menu": {
    "height": "12px",
    "width": "252px"
   },
   "navigate_menu": true,
   "number_sections": true,
   "sideBar": true,
   "threshold": 4,
   "toc_cell": false,
   "toc_section_display": "block",
   "toc_window_display": false,
   "widenNotebook": false
  }
 },
 "nbformat": 4,
 "nbformat_minor": 2
}
