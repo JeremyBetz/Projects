{
 "cells": [
  {
   "cell_type": "code",
   "execution_count": 18,
   "metadata": {
    "collapsed": false
   },
   "outputs": [
    {
     "name": "stdout",
     "output_type": "stream",
     "text": [
      "['The Coin', 'Patches the Pirate', 'Igneous Elemental', 'Fire Fly', 'Novice Engineer', 'Southsea Deckhand', 'Mimic Pod', 'Shadowstep', 'Swashburglar', 'Youthful Brewmaster']\n"
     ]
    }
   ],
   "source": [
    "import sys, json, pickle\n",
    "from gensim.models.word2vec import Word2Vec\n",
    "\n",
    "with open(\"gensim_model.pkl\", 'rb') as picklefile:\n",
    "    model = pickle.load(picklefile)\n",
    "\n",
    "#Read data from stdin\n",
    "def read_in():\n",
    "    lines = sys.stdin.readlines()\n",
    "    #Since our input would only be having one line, parse our JSON data from that\n",
    "    return ['The Caverns Below']\n",
    "    return json.loads(lines[0])\n",
    "\n",
    "def main():\n",
    "    sequence = read_in()\n",
    "    num = 10\n",
    "    print([item[0] for item in model.predict_output_word(sequence, topn=num)])\n",
    "\n",
    "#start process\n",
    "if __name__ == '__main__':\n",
    "    main()"
   ]
  },
  {
   "cell_type": "code",
   "execution_count": 19,
   "metadata": {
    "collapsed": false
   },
   "outputs": [
    {
     "data": {
      "text/plain": [
       "list"
      ]
     },
     "execution_count": 19,
     "metadata": {},
     "output_type": "execute_result"
    }
   ],
   "source": [
    "type(['The Caverns Below'])"
   ]
  },
  {
   "cell_type": "code",
   "execution_count": null,
   "metadata": {
    "collapsed": true
   },
   "outputs": [],
   "source": []
  }
 ],
 "metadata": {
  "kernelspec": {
   "display_name": "Python 3",
   "language": "python",
   "name": "python3"
  },
  "language_info": {
   "codemirror_mode": {
    "name": "ipython",
    "version": 3
   },
   "file_extension": ".py",
   "mimetype": "text/x-python",
   "name": "python",
   "nbconvert_exporter": "python",
   "pygments_lexer": "ipython3",
   "version": "3.6.0"
  },
  "toc": {
   "colors": {
    "hover_highlight": "#DAA520",
    "running_highlight": "#FF0000",
    "selected_highlight": "#FFD700"
   },
   "moveMenuLeft": true,
   "nav_menu": {
    "height": "12px",
    "width": "252px"
   },
   "navigate_menu": true,
   "number_sections": true,
   "sideBar": true,
   "threshold": 4,
   "toc_cell": false,
   "toc_section_display": "block",
   "toc_window_display": false,
   "widenNotebook": false
  }
 },
 "nbformat": 4,
 "nbformat_minor": 2
}
