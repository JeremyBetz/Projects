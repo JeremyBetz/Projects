{
 "cells": [
  {
   "cell_type": "code",
   "execution_count": 1,
   "metadata": {
    "collapsed": true
   },
   "outputs": [],
   "source": [
    "import pandas as pd\n",
    "import math\n",
    "import numpy as np\n",
    "import pickle"
   ]
  },
  {
   "cell_type": "code",
   "execution_count": 2,
   "metadata": {
    "collapsed": false
   },
   "outputs": [],
   "source": [
    "df = pd.concat((pd.read_json('Data/2017-04.json'   , orient='columns'),\n",
    "                pd.read_json('Data/2017-05.json'   , orient='columns'),\n",
    "                pd.read_json('Data/2017-06-01.json', orient='columns'),\n",
    "                pd.read_json('Data/2017-06-02.json', orient='columns'),\n",
    "                pd.read_json('Data/2017-06-03.json', orient='columns'),\n",
    "                pd.read_json('Data/2017-06-04.json', orient='columns'),\n",
    "                pd.read_json('Data/2017-06-05.json', orient='columns'),\n",
    "                pd.read_json('Data/2017-06-06.json', orient='columns'),\n",
    "                pd.read_json('Data/2017-06-07.json', orient='columns'),\n",
    "                pd.read_json('Data/2017-06-08.json', orient='columns'),\n",
    "                pd.read_json('Data/2017-06-09.json', orient='columns'),\n",
    "                pd.read_json('Data/2017-06-10.json', orient='columns'),\n",
    "                pd.read_json('Data/2017-06-11.json', orient='columns'),\n",
    "                pd.read_json('Data/2017-06-12.json', orient='columns'),\n",
    "                pd.read_json('Data/2017-06-13.json', orient='columns'),\n",
    "                pd.read_json('Data/2017-06-14.json', orient='columns'),\n",
    "                pd.read_json('Data/2017-06-15.json', orient='columns'),\n",
    "                pd.read_json('Data/2017-06-16.json', orient='columns'),\n",
    "                pd.read_json('Data/2017-06-17.json', orient='columns'),\n",
    "                pd.read_json('Data/2017-06-18.json', orient='columns'),\n",
    "                pd.read_json('Data/2017-06-19.json', orient='columns'),\n",
    "                pd.read_json('Data/2017-06-20.json', orient='columns'),\n",
    "                pd.read_json('Data/2017-06-21.json', orient='columns'),\n",
    "                pd.read_json('Data/2017-06-22.json', orient='columns'),\n",
    "                pd.read_json('Data/2017-06-23.json', orient='columns'),\n",
    "                pd.read_json('Data/2017-06-24.json', orient='columns'),\n",
    "                pd.read_json('Data/2017-06-25.json', orient='columns'),\n",
    "                pd.read_json('Data/2017-06-26.json', orient='columns'),\n",
    "                pd.read_json('Data/2017-06-27.json', orient='columns'),\n",
    "                pd.read_json('Data/2017-06-28.json', orient='columns')),\n",
    "              ignore_index=True)"
   ]
  },
  {
   "cell_type": "code",
   "execution_count": 3,
   "metadata": {
    "collapsed": true
   },
   "outputs": [],
   "source": [
    "Hero_Powers = ('Lesser Heal',\n",
    "               'Shapeshift',\n",
    "               'Fireblast',\n",
    "               'Totemic Call',\n",
    "               'Life Tap',\n",
    "               'Dagger Mastery',\n",
    "               'Reinforce',\n",
    "               'Armor Up!',\n",
    "               'Steady Shot',\n",
    "               'The Coin')"
   ]
  },
  {
   "cell_type": "code",
   "execution_count": 4,
   "metadata": {
    "collapsed": false
   },
   "outputs": [],
   "source": [
    "def card_sequence(game,player='me'):\n",
    "    \"\"\"Returns the sequence of cards played by a player in a game. \n",
    "        note: This includes hero power as a card\"\"\"\n",
    "    seq = []\n",
    "    for card in range(len(df.games[game]['card_history'])):\n",
    "        if df.games[game]['card_history'][card]['player'] == player:\n",
    "            if df.games[game]['card_history'][card]['card']['name'] not in Hero_Powers:\n",
    "                seq.append(df.games[game]['card_history'][card]['card']['name'])\n",
    "    return seq"
   ]
  },
  {
   "cell_type": "code",
   "execution_count": 5,
   "metadata": {
    "collapsed": true
   },
   "outputs": [],
   "source": [
    "def is_standard(game):\n",
    "    \"\"\"Returns False for games containing cards from wild set since track-o-bot can't identify format\"\"\"\n",
    "    isStandard = True\n",
    "    wild = ('FP1','GVG','BRM','AT_','LOE',) #Naxx, GvG, BRM, TGT, LOE\n",
    "    for card in range(len(game['card_history'])):\n",
    "        if game['card_history'][card]['card']['id'][:3] in wild:\n",
    "            isStandard = False\n",
    "    return isStandard"
   ]
  },
  {
   "cell_type": "code",
   "execution_count": 6,
   "metadata": {
    "collapsed": false
   },
   "outputs": [],
   "source": [
    "def get_class_corpus(data,class_):\n",
    "    \"\"\"Returns a list of card sequences for given class from ranked standard games\"\"\"\n",
    "    corpus = []\n",
    "    \n",
    "    for game in range(len(data.games)):\n",
    "        if data.games[game]['mode'] == 'ranked' and is_standard(data.games[game]) == True:\n",
    "            if data.games[game]['hero'] == class_:\n",
    "                seq = card_sequence(game)\n",
    "                if len(seq) > 0:\n",
    "                    corpus.append(seq)\n",
    "            if data.games[game]['opponent'] == class_:\n",
    "                seq = card_sequence(game,'opponent')\n",
    "                if len(seq) > 0:\n",
    "                    corpus.append(seq)\n",
    "    return corpus"
   ]
  },
  {
   "cell_type": "code",
   "execution_count": 7,
   "metadata": {
    "collapsed": true
   },
   "outputs": [],
   "source": [
    "def average_length(Class):\n",
    "    \"\"\"Returns average number of cards played by a player in a game for given class\"\"\"\n",
    "    count=0\n",
    "    for game in Class:\n",
    "        count+=len(game)\n",
    "    return count / len(Class)"
   ]
  },
  {
   "cell_type": "markdown",
   "metadata": {},
   "source": [
    "**Create Class Corpora**"
   ]
  },
  {
   "cell_type": "code",
   "execution_count": 8,
   "metadata": {
    "collapsed": false
   },
   "outputs": [],
   "source": [
    "Classes = ('Druid',\n",
    "           'Hunter',\n",
    "           'Mage',\n",
    "           'Paladin',\n",
    "           'Priest',\n",
    "           'Rogue',\n",
    "           'Shaman',\n",
    "           'Warlock',\n",
    "           'Warrior')\n",
    "\n",
    "for Class in Classes:\n",
    "    globals()[Class] = get_class_corpus(df,Class)"
   ]
  },
  {
   "cell_type": "code",
   "execution_count": 9,
   "metadata": {
    "collapsed": false
   },
   "outputs": [],
   "source": [
    "for Class in Classes:\n",
    "    globals()[Class+'_txt'] = sum(globals()[Class], [])"
   ]
  },
  {
   "cell_type": "markdown",
   "metadata": {},
   "source": [
    "**Cards / Class**"
   ]
  },
  {
   "cell_type": "code",
   "execution_count": 10,
   "metadata": {
    "collapsed": false
   },
   "outputs": [
    {
     "name": "stdout",
     "output_type": "stream",
     "text": [
      "Cards / Class\n",
      "\n",
      "Drui 136025\n",
      "Hunt 67630\n",
      "Mage 192246\n",
      "Pala 144938\n",
      "Prie 121562\n",
      "Rogu 173077\n",
      "Sham 110019\n",
      "Warl 21927\n",
      "Warr 159870\n"
     ]
    }
   ],
   "source": [
    "print('Cards / Class')\n",
    "print()\n",
    "for Class in Classes:\n",
    "    print(Class[:4],len(globals()[Class+'_txt']))"
   ]
  },
  {
   "cell_type": "markdown",
   "metadata": {},
   "source": [
    "**Games / Class**"
   ]
  },
  {
   "cell_type": "code",
   "execution_count": 11,
   "metadata": {
    "collapsed": false
   },
   "outputs": [
    {
     "name": "stdout",
     "output_type": "stream",
     "text": [
      "Games / Class\n",
      "\n",
      "Drui 11326\n",
      "Hunt 6591\n",
      "Mage 11879\n",
      "Pala 11495\n",
      "Prie 7801\n",
      "Rogu 10240\n",
      "Sham 8578\n",
      "Warl 1906\n",
      "Warr 13451\n"
     ]
    }
   ],
   "source": [
    "print('Games / Class')\n",
    "print()\n",
    "for Class in Classes:\n",
    "    print(Class[:4],len(globals()[Class]))"
   ]
  },
  {
   "cell_type": "markdown",
   "metadata": {},
   "source": [
    "**Cards / Game**"
   ]
  },
  {
   "cell_type": "code",
   "execution_count": 12,
   "metadata": {
    "collapsed": false
   },
   "outputs": [
    {
     "name": "stdout",
     "output_type": "stream",
     "text": [
      "Cards / Game\n",
      "\n",
      "Drui 12\n",
      "Hunt 10\n",
      "Mage 16\n",
      "Pala 13\n",
      "Prie 16\n",
      "Rogu 17\n",
      "Sham 13\n",
      "Warl 12\n",
      "Warr 12\n"
     ]
    }
   ],
   "source": [
    "print('Cards / Game')\n",
    "print()\n",
    "for Class in Classes:\n",
    "    print(Class[:4],round(average_length(globals()[Class])))\n",
    "    "
   ]
  },
  {
   "cell_type": "code",
   "execution_count": 13,
   "metadata": {
    "collapsed": false
   },
   "outputs": [],
   "source": [
    "def random_sample(n=5):\n",
    "    \"\"\"print random game\"\"\"\n",
    "    for _ in range(n):\n",
    "        class_ = np.random.randint(0,len(Classes)-1)\n",
    "        print(Classes[class_])\n",
    "        print(globals()[Classes[class_]][np.random.randint(0,len(globals()[Classes[class_]])-1)])\n",
    "        print()"
   ]
  },
  {
   "cell_type": "code",
   "execution_count": 14,
   "metadata": {
    "collapsed": false,
    "scrolled": false
   },
   "outputs": [
    {
     "name": "stdout",
     "output_type": "stream",
     "text": [
      "Mage\n",
      "['Arcanologist', 'Ice Block', 'Fireball', 'Babbling Book', \"Medivh's Valet\", \"Sorcerer's Apprentice\", \"Sorcerer's Apprentice\", 'Frost Nova', 'Ice Barrier', 'Babbling Book', 'Meteor', 'Medivh, the Guardian', 'Firelands Portal', 'Alexstrasza', 'Arcanologist', 'Arcane Intellect', 'Mana Bind', 'Frostbolt', 'Arcane Intellect', 'Firelands Portal']\n",
      "\n",
      "Paladin\n",
      "['Infested Tauren', 'Elise the Trailblazer', 'Doomsayer', 'Truesilver Champion', 'Wild Pyromancer', 'Consecration', 'Tirion Fordring', 'Spikeridged Steed', 'Ragnaros, Lightlord', 'Infested Tauren', 'Spikeridged Steed', 'Gluttonous Ooze', \"Un'Goro Pack\", 'Adaptation', 'Tyrantus', 'Hot Spring Guardian']\n",
      "\n",
      "Priest\n",
      "['Potion of Madness', 'Radiant Elemental', 'Shadow Word: Pain', 'Power Word: Shield']\n",
      "\n",
      "Hunter\n",
      "['Alleycat', 'Animal Companion', 'Animal Companion', 'Scavenging Hyena', 'Dire Wolf Alpha', 'Eaglehorn Bow', 'Hungry Crab', 'Tundra Rhino', 'Eaglehorn Bow', 'Fire Fly', 'Flame Elemental', 'Unleash the Hounds', 'Dire Wolf Alpha']\n",
      "\n",
      "Mage\n",
      "[\"Medivh's Valet\", 'Bloodmage Thalnos', 'Primordial Glyph', 'Frostbolt', 'Frostbolt', 'Doomsayer', 'Doomsayer', 'Arcanologist', 'Acolyte of Pain', 'Ice Barrier', \"Medivh's Valet\", 'Fireball', 'Acolyte of Pain', 'Frost Nova', 'Arcane Intellect', 'Primordial Glyph', 'Polymorph', 'Flamestrike', 'Ice Barrier', 'Frost Nova', 'Blizzard', 'Alexstrasza', 'Blizzard', 'Pyroblast']\n",
      "\n",
      "Shaman\n",
      "['Jade Claws', 'Patches the Pirate', 'Tar Creeper', 'Primalfin Totem', 'Bloodsail Corsair', 'Jade Lightning', 'Fire Fly', 'Bloodlust']\n",
      "\n",
      "Druid\n",
      "['Jade Blossom', 'Nourish', 'Tar Creeper', 'Swipe', 'Aya Blackpaw', 'Gluttonous Ooze', 'Jade Spirit', 'Gadgetzan Auctioneer', 'Innervate', 'Feral Rage', 'Wrath', 'Earthen Scales', 'Fandral Staghelm', 'Jade Idol', 'Wrath', 'Feral Rage', 'Primordial Drake', 'Wild Growth', 'Gadgetzan Auctioneer', 'Excess Mana', 'Wild Growth', 'Excess Mana', 'Jade Idol', 'Jade Idol', 'Innervate', 'Jade Idol', 'Jade Idol', 'Swipe', 'Jade Spirit']\n",
      "\n"
     ]
    }
   ],
   "source": [
    "random_sample(7)"
   ]
  },
  {
   "cell_type": "code",
   "execution_count": 15,
   "metadata": {
    "collapsed": false
   },
   "outputs": [],
   "source": [
    "Corpora = (Druid,Hunter,Mage,Paladin,Priest,Rogue,Shaman,Warlock,Warrior)\n",
    "Corpora_txt = (Druid_txt,Hunter_txt,Mage_txt,Paladin_txt,Priest_txt,Rogue_txt,Shaman_txt,Warlock_txt,Warrior_txt)"
   ]
  },
  {
   "cell_type": "code",
   "execution_count": 16,
   "metadata": {
    "collapsed": false
   },
   "outputs": [
    {
     "data": {
      "text/plain": [
       "9"
      ]
     },
     "execution_count": 16,
     "metadata": {},
     "output_type": "execute_result"
    }
   ],
   "source": [
    "len(Corpora)"
   ]
  },
  {
   "cell_type": "code",
   "execution_count": 17,
   "metadata": {
    "collapsed": true
   },
   "outputs": [],
   "source": [
    "with open('corpora.pkl', 'wb') as picklefile:\n",
    "    pickle.dump(Corpora, picklefile)\n",
    "with open('corpora_txt.pkl', 'wb') as picklefile:\n",
    "    pickle.dump(Corpora_txt, picklefile)"
   ]
  },
  {
   "cell_type": "code",
   "execution_count": 18,
   "metadata": {
    "collapsed": false
   },
   "outputs": [],
   "source": [
    "def get_bigrams(Class):\n",
    "    grams = []\n",
    "    for game in range(len(Class)):\n",
    "        for i in range(len(Class[game])-1):\n",
    "            grams.append(sorted([Class[game][i],Class[game][i+1]]))\n",
    "    return sorted(grams)"
   ]
  },
  {
   "cell_type": "code",
   "execution_count": 19,
   "metadata": {
    "collapsed": false
   },
   "outputs": [],
   "source": [
    "druid_grams = get_bigrams(Druid)"
   ]
  },
  {
   "cell_type": "code",
   "execution_count": 20,
   "metadata": {
    "collapsed": true
   },
   "outputs": [],
   "source": [
    "mage_grams = get_bigrams(Mage)"
   ]
  },
  {
   "cell_type": "code",
   "execution_count": 21,
   "metadata": {
    "collapsed": false
   },
   "outputs": [
    {
     "name": "stdout",
     "output_type": "stream",
     "text": [
      "Primordial Glyph    3336\n",
      "Arcane Intellect    2069\n",
      "Frostbolt           1701\n",
      "Mana Wyrm           1497\n",
      "Arcanologist        1248\n",
      "Ice Block           1104\n",
      "Medivh's Valet      1016\n",
      "Fireball             999\n",
      "Firelands Portal     777\n",
      "Babbling Book        775\n",
      "Name: a, dtype: int64\n"
     ]
    }
   ],
   "source": [
    "print(pd.DataFrame(mage_grams,columns=('a','b')).query('a == \"Primordial Glyph\" or b == \"Primordial Glyph\"')['a'].value_counts()[0:10])"
   ]
  },
  {
   "cell_type": "code",
   "execution_count": 22,
   "metadata": {
    "collapsed": false
   },
   "outputs": [
    {
     "data": {
      "text/plain": [
       "124699"
      ]
     },
     "execution_count": 22,
     "metadata": {},
     "output_type": "execute_result"
    }
   ],
   "source": [
    "len(druid_grams)"
   ]
  },
  {
   "cell_type": "code",
   "execution_count": 23,
   "metadata": {
    "collapsed": false
   },
   "outputs": [
    {
     "data": {
      "text/plain": [
       "str"
      ]
     },
     "execution_count": 23,
     "metadata": {},
     "output_type": "execute_result"
    }
   ],
   "source": [
    "type(druid_grams[0][0])"
   ]
  },
  {
   "cell_type": "code",
   "execution_count": 24,
   "metadata": {
    "collapsed": false
   },
   "outputs": [
    {
     "data": {
      "text/plain": [
       "[\"N'Zoth's First Mate\",\n",
       " 'Patches the Pirate',\n",
       " 'Frothing Berserker',\n",
       " 'Frothing Berserker']"
      ]
     },
     "execution_count": 24,
     "metadata": {},
     "output_type": "execute_result"
    }
   ],
   "source": [
    "Warrior[0]"
   ]
  },
  {
   "cell_type": "code",
   "execution_count": 25,
   "metadata": {
    "collapsed": false
   },
   "outputs": [],
   "source": [
    "import itertools\n",
    "\n",
    "for Class in Classes:\n",
    "    globals()[Class+'_merge'] = list(itertools.chain.from_iterable(globals()[Class]))"
   ]
  },
  {
   "cell_type": "code",
   "execution_count": 26,
   "metadata": {
    "collapsed": false
   },
   "outputs": [],
   "source": [
    "Merged_Corpora = list(itertools.chain.from_iterable(Corpora))"
   ]
  },
  {
   "cell_type": "code",
   "execution_count": 27,
   "metadata": {
    "collapsed": false
   },
   "outputs": [
    {
     "name": "stdout",
     "output_type": "stream",
     "text": [
      "Innervate             8891\n",
      "Jade Idol             6289\n",
      "Swipe                 5289\n",
      "Enchanted Raven       4854\n",
      "Wrath                 4766\n",
      "Fire Fly              4540\n",
      "Bloodsail Corsair     4523\n",
      "Wild Growth           4494\n",
      "Patches the Pirate    4479\n",
      "Mark of the Lotus     4454\n",
      "Name: 0, dtype: int64\n",
      "\n",
      "Alleycat              5035\n",
      "Crackling Razormaw    4621\n",
      "Animal Companion      4511\n",
      "Jeweled Macaw         4305\n",
      "Kindly Grandmother    4070\n",
      "Scavenging Hyena      3860\n",
      "Houndmaster           3763\n",
      "Kill Command          3315\n",
      "Eaglehorn Bow         2897\n",
      "Unleash the Hounds    2605\n",
      "Name: 0, dtype: int64\n",
      "\n",
      "Primordial Glyph    13196\n",
      "Frostbolt           12274\n",
      "Arcanologist        11967\n",
      "Arcane Intellect    11491\n",
      "Fireball            10872\n",
      "Medivh's Valet      10050\n",
      "Mana Wyrm            9991\n",
      "Ice Block            8475\n",
      "Firelands Portal     7271\n",
      "Babbling Book        6542\n",
      "Name: 0, dtype: int64\n",
      "\n",
      "Hydrologist            11106\n",
      "Vilefin Inquisitor      8380\n",
      "Rockpool Hunter         8233\n",
      "Murloc Tidecaller       7503\n",
      "Murloc Warleader        7378\n",
      "Truesilver Champion     6742\n",
      "Gentle Megasaur         5989\n",
      "Consecration            5862\n",
      "Stonehill Defender      5670\n",
      "Grimscale Chum          5532\n",
      "Name: 0, dtype: int64\n",
      "\n",
      "Power Word: Shield    8750\n",
      "Northshire Cleric     7016\n",
      "Shadow Visions        6693\n",
      "Radiant Elemental     5670\n",
      "Shadow Word: Pain     5131\n",
      "Potion of Madness     4690\n",
      "Kabal Talonpriest     4555\n",
      "Shadow Word: Death    3510\n",
      "Divine Spirit         3263\n",
      "Dragonfire Potion     2957\n",
      "Name: 0, dtype: int64\n",
      "\n",
      "Swashburglar          10091\n",
      "Flame Elemental        9905\n",
      "Patches the Pirate     8162\n",
      "Preparation            7319\n",
      "Backstab               7042\n",
      "Novice Engineer        6446\n",
      "Southsea Deckhand      5876\n",
      "Fire Fly               5706\n",
      "Eviscerate             5419\n",
      "Mimic Pod              5281\n",
      "Name: 0, dtype: int64\n",
      "\n",
      "Maelstrom Portal      6406\n",
      "Jade Claws            6404\n",
      "Flametongue Totem     6183\n",
      "Fire Fly              6026\n",
      "Flame Elemental       5695\n",
      "Thing from Below      5096\n",
      "Jade Lightning        5055\n",
      "Mana Tide Totem       4458\n",
      "Stonehill Defender    4405\n",
      "Primalfin Totem       4093\n",
      "Name: 0, dtype: int64\n",
      "\n",
      "Voidwalker              1201\n",
      "Malchezaar's Imp        1003\n",
      "Flame Imp                916\n",
      "Soulfire                 874\n",
      "Possessed Villager       837\n",
      "Darkshire Councilman     770\n",
      "Dire Wolf Alpha          745\n",
      "Doomguard                718\n",
      "Knife Juggler            680\n",
      "Defender of Argus        653\n",
      "Name: 0, dtype: int64\n",
      "\n",
      "Fiery War Axe          10976\n",
      "Patches the Pirate      8008\n",
      "N'Zoth's First Mate     5899\n",
      "Bloodsail Raider        5676\n",
      "Southsea Deckhand       5673\n",
      "Upgrade!                5236\n",
      "Dread Corsair           5174\n",
      "Frothing Berserker      5042\n",
      "Bloodsail Cultist       5013\n",
      "Ravaging Ghoul          4939\n",
      "Name: 0, dtype: int64\n",
      "\n"
     ]
    }
   ],
   "source": [
    "for Class in Classes:\n",
    "    print(pd.DataFrame(globals()[Class+'_merge'])\n",
    "          .loc[pd.DataFrame(globals()[Class+'_merge'])[0] != 'The Coin'][0]\n",
    "          .value_counts()[0:10])\n",
    "    print()"
   ]
  },
  {
   "cell_type": "code",
   "execution_count": 28,
   "metadata": {
    "collapsed": false
   },
   "outputs": [],
   "source": [
    "for Class in Classes:\n",
    "    with open(Class+'.pkl', 'wb') as picklefile:\n",
    "        pickle.dump(globals()[Class], picklefile)"
   ]
  },
  {
   "cell_type": "code",
   "execution_count": null,
   "metadata": {
    "collapsed": true
   },
   "outputs": [],
   "source": []
  }
 ],
 "metadata": {
  "kernelspec": {
   "display_name": "Python 3",
   "language": "python",
   "name": "python3"
  },
  "language_info": {
   "codemirror_mode": {
    "name": "ipython",
    "version": 3
   },
   "file_extension": ".py",
   "mimetype": "text/x-python",
   "name": "python",
   "nbconvert_exporter": "python",
   "pygments_lexer": "ipython3",
   "version": "3.6.0"
  },
  "toc": {
   "colors": {
    "hover_highlight": "#DAA520",
    "running_highlight": "#FF0000",
    "selected_highlight": "#FFD700"
   },
   "moveMenuLeft": true,
   "nav_menu": {
    "height": "12px",
    "width": "252px"
   },
   "navigate_menu": true,
   "number_sections": true,
   "sideBar": true,
   "threshold": 4,
   "toc_cell": false,
   "toc_section_display": "block",
   "toc_window_display": false,
   "widenNotebook": false
  }
 },
 "nbformat": 4,
 "nbformat_minor": 2
}
