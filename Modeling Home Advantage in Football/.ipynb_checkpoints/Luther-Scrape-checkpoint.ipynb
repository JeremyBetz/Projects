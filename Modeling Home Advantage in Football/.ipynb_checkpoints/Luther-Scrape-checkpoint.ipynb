{
 "cells": [
  {
   "cell_type": "code",
   "execution_count": 1,
   "metadata": {
    "collapsed": false
   },
   "outputs": [],
   "source": [
    "from bs4 import BeautifulSoup\n",
    "from itertools import chain\n",
    "from selenium import webdriver  \n",
    "from selenium.common.exceptions import NoSuchElementException  \n",
    "from selenium.webdriver.common.keys import Keys  \n",
    "from selenium.webdriver.common.keys import Keys\n",
    "\n",
    "import os\n",
    "import time\n",
    "import pandas as pd\n",
    "import pickle\n",
    "import re\n",
    "\n",
    "chromedriver = \"/Applications/chromedriver\"\n",
    "os.environ[\"webdriver.chrome.driver\"] = chromedriver"
   ]
  },
  {
   "cell_type": "markdown",
   "metadata": {},
   "source": [
    "# Generate a List of Links to Scrape Individual Matches"
   ]
  },
  {
   "cell_type": "markdown",
   "metadata": {},
   "source": [
    "Fixture List Scraping Function"
   ]
  },
  {
   "cell_type": "code",
   "execution_count": 2,
   "metadata": {
    "collapsed": true
   },
   "outputs": [],
   "source": [
    "def get_match_links(fixtures_url):\n",
    "    \"\"\"takes a url for a single season fixture list \n",
    "    and generates a list of links to the individual matches for the league\"\"\"\n",
    "    browser = webdriver.Chrome(chromedriver)\n",
    "    browser.get(fixtures_url)\n",
    "    match_links = []\n",
    "\n",
    "    html_source = browser.page_source\n",
    "    soup = BeautifulSoup(html_source, 'html.parser')\n",
    "    matches = soup.find_all(class_='result-1 rc')\n",
    "    for el in range(len(matches)):\n",
    "        match_links.append(matches[el]['href']) #appends url for given match to match_links\n",
    "\n",
    "    time.sleep(15) \n",
    "\n",
    "    for i in range(9):\n",
    "        browser.find_element_by_xpath('//a[@title=\"View previous month\"]').click()\n",
    "        time.sleep(5) \n",
    "\n",
    "        html_source = browser.page_source\n",
    "        soup = BeautifulSoup(html_source, 'html.parser')\n",
    "        matches = soup.find_all(class_='result-1 rc')\n",
    "        for el in range(len(matches)):\n",
    "            match_links.append(matches[el]['href']) #appends url for given match to match_links\n",
    "            \n",
    "    list(set(match_links)) #drop duplicates\n",
    "    match_links.sort()\n",
    "    browser.quit()\n",
    "    return match_links"
   ]
  },
  {
   "cell_type": "markdown",
   "metadata": {},
   "source": [
    "**Generate Fixture Lists for England, Spain , Germany 2015/16**"
   ]
  },
  {
   "cell_type": "code",
   "execution_count": 3,
   "metadata": {
    "collapsed": false
   },
   "outputs": [],
   "source": [
    "links_england = get_match_links(\"https://www.whoscored.com/Regions/252/Tournaments/2/Seasons/5826/Stages/12496/Fixtures/England-Premier-League-2015-2016\")\n",
    "\n",
    "links_spain = get_match_links(\"https://www.whoscored.com/Regions/206/Tournaments/4/Seasons/5933/Stages/12647/Fixtures/Spain-La-Liga-2015-2016\")\n",
    "\n",
    "links_germany = get_match_links(\"https://www.whoscored.com/Regions/81/Tournaments/3/Seasons/5870/Stages/12559/Fixtures/Germany-Bundesliga-2015-2016\")"
   ]
  },
  {
   "cell_type": "markdown",
   "metadata": {},
   "source": [
    "**Pickle Fixture Lists**"
   ]
  },
  {
   "cell_type": "code",
   "execution_count": 4,
   "metadata": {
    "collapsed": false
   },
   "outputs": [],
   "source": [
    "with open('links_england.pkl', 'wb') as picklefile:\n",
    "    pickle.dump(links_england, picklefile)\n",
    "\n",
    "with open('links_spain.pkl', 'wb') as picklefile:\n",
    "    pickle.dump(links_spain, picklefile)\n",
    "\n",
    "with open('links_germany.pkl', 'wb') as picklefile:\n",
    "    pickle.dump(links_germany, picklefile)"
   ]
  },
  {
   "cell_type": "markdown",
   "metadata": {},
   "source": [
    "# Create Match DataFrame / Scrape Individual Matches"
   ]
  },
  {
   "cell_type": "markdown",
   "metadata": {},
   "source": [
    "Create DataFrame with Features to Consider"
   ]
  },
  {
   "cell_type": "code",
   "execution_count": 5,
   "metadata": {
    "collapsed": false
   },
   "outputs": [],
   "source": [
    "df = pd.DataFrame(columns=('link','goals_for','goals_against','shots_for','shots_against','post_for','post_against','on_target_for','on_target_against','off_target_for','off_target_against','blocked_for','blocked_against','possession%_for','possession%_against','touches_for','touches_against','pass_success%_for','pass_success%_against','total_passes_for','total_passes_against','completed_passes_for','completed_passes_against','key_passes_for','key_passes_against','dribbles_won_for','dribbles_won_against','dribbles_attempted_for','dribbles_attempted_against','dribbled_past_for','dribbled_past_against','dribble_success%_for','dribble_success%_against','aerials_won_for','aerials_won_against','aerials_won%_for','aerials_won%_against','offensive_aerials_for','offensive_aerials_against','defensive_aerials_for','defensive_aerials_against','successful_tackles_for','successful_tackles_against','tackles_attempted_for','tackles_attempted_against','was_dribbled_for','was_dribbled_against','tackle_success%_for','tackle_success%_against','clearances_for','clearances_against','interceptions_for','interceptions_against','corners_for','corners_against','corner_accuracy%_for','corner_accuracy%_against','dispossessed_for','dispossessed_against','errors_for','errors_against','fouls_for','fouls_against','total_saves_for','total_saves_against','collected_for','collected_against','parried_save_for','parried_save_against','parried_danger_for','parried_danger_against'))"
   ]
  },
  {
   "cell_type": "markdown",
   "metadata": {},
   "source": [
    "**Match Scraping Function**"
   ]
  },
  {
   "cell_type": "code",
   "execution_count": 6,
   "metadata": {
    "collapsed": false
   },
   "outputs": [],
   "source": [
    "def get_match_stats():\n",
    "    \"\"\"returns match stats from current Beautiful Soup object\"\"\"\n",
    "    match = []\n",
    "    match.append(soup.find(class_=\"result\").get_text()[0]) #Home Goals - assumes single digit goal figure\n",
    "    match.append(soup.find(class_=\"result\").get_text()[4]) #Away Goals ...\n",
    "    for s in (chain(range(30), range(62,66))):\n",
    "        match.append(stats[s].find_all(class_='match-centre-stat-value')[0].get_text()) #Home Stat\n",
    "        match.append(stats[s].find_all(class_='match-centre-stat-value')[1].get_text()) #Away ...\n",
    "    return match"
   ]
  },
  {
   "cell_type": "code",
   "execution_count": 7,
   "metadata": {
    "collapsed": true
   },
   "outputs": [],
   "source": [
    "match = []"
   ]
  },
  {
   "cell_type": "markdown",
   "metadata": {},
   "source": [
    "**Scrape Entire Fixture List for Match Stats**"
   ]
  },
  {
   "cell_type": "markdown",
   "metadata": {},
   "source": [
    "England"
   ]
  },
  {
   "cell_type": "code",
   "execution_count": 8,
   "metadata": {
    "collapsed": true
   },
   "outputs": [],
   "source": [
    "browser = webdriver.Chrome(chromedriver)\n",
    "for i in range(len(links_england)):\n",
    "    browser.get(\"https://www.whoscored.com/\"+links_england[i])\n",
    "    html_source = browser.page_source\n",
    "\n",
    "    soup = BeautifulSoup(html_source, 'html.parser')\n",
    "    matches = soup.find_all(class_='result-1 rc')\n",
    "    stats = soup.find_all(class_='match-centre-stat match-centre-sub-stat')\n",
    "    df.loc[i] = get_match_stats()\n",
    "    \n",
    "browser.quit()"
   ]
  },
  {
   "cell_type": "code",
   "execution_count": 9,
   "metadata": {
    "collapsed": true
   },
   "outputs": [],
   "source": [
    "with open('match_frame_england.pkl', 'wb') as picklefile:\n",
    "    pickle.dump(df, picklefile)"
   ]
  },
  {
   "cell_type": "markdown",
   "metadata": {},
   "source": [
    "Spain"
   ]
  },
  {
   "cell_type": "code",
   "execution_count": 10,
   "metadata": {
    "collapsed": true
   },
   "outputs": [],
   "source": [
    "browser = webdriver.Chrome(chromedriver)\n",
    "for i in range(len(links_spain)):\n",
    "    browser.get(\"https://www.whoscored.com/\"+links_spain[i])\n",
    "    html_source = browser.page_source\n",
    "\n",
    "    soup = BeautifulSoup(html_source, 'html.parser')\n",
    "    matches = soup.find_all(class_='result-1 rc')\n",
    "    stats = soup.find_all(class_='match-centre-stat match-centre-sub-stat')\n",
    "    df2.loc[i] = get_match_stats()\n",
    "    \n",
    "browser.quit()"
   ]
  },
  {
   "cell_type": "code",
   "execution_count": 11,
   "metadata": {
    "collapsed": true
   },
   "outputs": [],
   "source": [
    "with open('match_frame_spain.pkl', 'wb') as picklefile:\n",
    "    pickle.dump(df2, picklefile)"
   ]
  },
  {
   "cell_type": "markdown",
   "metadata": {},
   "source": [
    "Germany"
   ]
  },
  {
   "cell_type": "code",
   "execution_count": 12,
   "metadata": {
    "collapsed": true
   },
   "outputs": [],
   "source": [
    "browser = webdriver.Chrome(chromedriver)\n",
    "for i in range(len(links_germany)):\n",
    "    browser.get(\"https://www.whoscored.com/\"+links_germany[i])\n",
    "    html_source = browser.page_source\n",
    "\n",
    "    soup = BeautifulSoup(html_source, 'html.parser')\n",
    "    matches = soup.find_all(class_='result-1 rc')\n",
    "    stats = soup.find_all(class_='match-centre-stat match-centre-sub-stat')\n",
    "    df3.loc[i] = get_match_stats()\n",
    "    \n",
    "browser.quit()"
   ]
  },
  {
   "cell_type": "code",
   "execution_count": 13,
   "metadata": {
    "collapsed": false
   },
   "outputs": [],
   "source": [
    "with open('match_frame_germany.pkl', 'wb') as picklefile:\n",
    "    pickle.dump(df3, picklefile)"
   ]
  }
 ],
 "metadata": {
  "kernelspec": {
   "display_name": "Python 3",
   "language": "python",
   "name": "python3"
  },
  "language_info": {
   "codemirror_mode": {
    "name": "ipython",
    "version": 3
   },
   "file_extension": ".py",
   "mimetype": "text/x-python",
   "name": "python",
   "nbconvert_exporter": "python",
   "pygments_lexer": "ipython3",
   "version": "3.6.0"
  },
  "toc": {
   "colors": {
    "hover_highlight": "#DAA520",
    "running_highlight": "#FF0000",
    "selected_highlight": "#FFD700"
   },
   "moveMenuLeft": true,
   "nav_menu": {
    "height": "12px",
    "width": "252px"
   },
   "navigate_menu": true,
   "number_sections": true,
   "sideBar": true,
   "threshold": 4,
   "toc_cell": false,
   "toc_section_display": "block",
   "toc_window_display": false,
   "widenNotebook": false
  }
 },
 "nbformat": 4,
 "nbformat_minor": 2
}
